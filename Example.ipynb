{
 "cells": [
  {
   "cell_type": "markdown",
   "id": "d43ab953-f6ab-4b41-a056-ac3ef9839626",
   "metadata": {},
   "source": [
    "## Navigation"
   ]
  },
  {
   "cell_type": "markdown",
   "id": "7bbfe957-8c54-4ee6-84ac-b6f08af92c03",
   "metadata": {
    "tags": []
   },
   "source": [
    "### Opening files\n",
    "\n",
    "#### Say: \"Open notebook data\".\n",
    "\n",
    "It should open `data.ipynb` notebook (if it exists). More work is needed to match names in case-insensitive manner and to provide suggestions in case if name is not matched exactly.\n",
    "\n",
    "#### Say: \"Open file setup.py\".\n",
    "\n",
    "It should open file `setup.py`"
   ]
  },
  {
   "cell_type": "markdown",
   "id": "6c1bd410-a870-4935-ae63-c4e19ec119f2",
   "metadata": {},
   "source": [
    "### Switching between tabs\n",
    "\n",
    "#### Say: \"Activate next tab\"\n",
    "\n",
    "It should switch to next tab.\n",
    "\n",
    "Tip to non-native speakers: make \"a\" in tab longer to get proper recognition.\n",
    "\n",
    "#### Say: \"Activate previous tab\"\n",
    "\n",
    "It should switch to previous tab."
   ]
  },
  {
   "cell_type": "markdown",
   "id": "247790ec-3a70-454f-8d21-307ef7c1d342",
   "metadata": {},
   "source": [
    "### Navigating a notebook\n",
    "\n",
    "#### Say: \"Select cell above\"\n",
    "\n",
    "As expected.\n",
    "\n",
    "#### Say: \"Select cell below\"\n",
    "\n",
    "As expected.\n",
    "\n",
    "#### Say: \"Enter edit mode\"\n",
    "\n",
    "It should enter edit mode of a cell.\n",
    "\n",
    "#### Say: \"Enter command mode\"\n",
    "\n",
    "It should enter command mode of a notebook."
   ]
  },
  {
   "cell_type": "markdown",
   "id": "2e8eb39c-58fc-4ba6-92d2-df4954b3a0e1",
   "metadata": {},
   "source": [
    "## Analysis and coding"
   ]
  },
  {
   "cell_type": "markdown",
   "id": "c8233be3-159b-4136-bafb-44cfc8b344a8",
   "metadata": {},
   "source": [
    "### Working with text\n",
    "\n",
    "#### Say: \"Type (some text)\"\n",
    "\n",
    "It should type \"some text\" in the currently active editor.\n",
    "\n",
    "\n",
    "#### Say: \"Move cursor to the end\" (or to the beginning)\n",
    "\n",
    "(Not working well currently in notebooks, to be improved).\n",
    "\n",
    "It should move the caret in the active editor to the last (first) character of last (first) line.\n",
    "\n",
    "#### Say: \"Delete last word\"\n",
    "\n",
    "It should remove the last word."
   ]
  },
  {
   "cell_type": "markdown",
   "id": "2dc489b4-f831-4292-a29f-c81f96095232",
   "metadata": {},
   "source": [
    "### Execution\n",
    "\n",
    "#### Say: \"Run selected cells\"\n",
    "\n",
    "It should run selected cells.\n",
    "\n",
    "#### Say: \"Run and insert\"\n",
    "\n",
    "It should run selected cells and insert a new cell below."
   ]
  }
 ],
 "metadata": {
  "kernelspec": {
   "display_name": "Python 3 (ipykernel)",
   "language": "python",
   "name": "python3"
  },
  "language_info": {
   "codemirror_mode": {
    "name": "ipython",
    "version": 3
   },
   "file_extension": ".py",
   "mimetype": "text/x-python",
   "name": "python",
   "nbconvert_exporter": "python",
   "pygments_lexer": "ipython3",
   "version": "3.10.4"
  }
 },
 "nbformat": 4,
 "nbformat_minor": 5
}
